{
 "cells": [
  {
   "cell_type": "code",
   "execution_count": 4,
   "metadata": {
    "collapsed": false
   },
   "outputs": [
    {
     "name": "stdout",
     "output_type": "stream",
     "text": [
      "Obecný úrad Nána\n"
     ]
    }
   ],
   "source": [
    "from bs4 import BeautifulSoup\n",
    "\n",
    "html = '''<p>\n",
    "<strong>Adresa:</strong>Obecný úrad Nána<br></br>Madáchova 32<br></br>943 60 Nána<br></br><br></br><strong>Telefón:</strong>036/759 70 06<br></br><strong>Fax:</strong>036/7597 007<br></br><strong>Web:</strong><a href=\"http://www.obecnana.sk\"></a><br></br>\n",
    "</p>'''\n",
    "\n",
    "soup = BeautifulSoup(html)\n",
    "\n",
    "e = soup.find('strong', text = 'Adresa:')\n",
    "e = e.next_sibling\n",
    "print e\n",
    "#strings = []\n",
    "#while e and e.name != 'strong':\n",
    "#    if e.string is not None:\n",
    "#        strings.append(e)\n",
    "#    e = e.next_sibling\n",
    "\n",
    "#print 'Adresa: %s' % ', '.join(strings)\n",
    "#Adresa: Obecný úrad Nána, Madáchova 32, 943 60 Nána"
   ]
  },
  {
   "cell_type": "code",
   "execution_count": null,
   "metadata": {
    "collapsed": true
   },
   "outputs": [],
   "source": []
  }
 ],
 "metadata": {
  "kernelspec": {
   "display_name": "Python 2",
   "language": "python",
   "name": "python2"
  },
  "language_info": {
   "codemirror_mode": {
    "name": "ipython",
    "version": 2
   },
   "file_extension": ".py",
   "mimetype": "text/x-python",
   "name": "python",
   "nbconvert_exporter": "python",
   "pygments_lexer": "ipython2",
   "version": "2.7.9"
  }
 },
 "nbformat": 4,
 "nbformat_minor": 0
}
