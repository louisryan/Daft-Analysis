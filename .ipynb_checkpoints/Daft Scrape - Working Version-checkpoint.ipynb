{
 "cells": [
  {
   "cell_type": "markdown",
   "metadata": {},
   "source": [
    "# Daft Scraping"
   ]
  },
  {
   "cell_type": "markdown",
   "metadata": {},
   "source": [
    "This is a python script to scrape Daft.ie for all house prices since the time of the ast scrape. The unique identifier is the URL which contains reference to the apartment/house. "
   ]
  },
  {
   "cell_type": "code",
   "execution_count": 1,
   "metadata": {
    "collapsed": false
   },
   "outputs": [],
   "source": [
    "from bs4 import BeautifulSoup, Comment\n",
    "from urllib2 import urlopen\n",
    "import pprint as pp\n",
    "import html5lib \n",
    "import sys\n",
    "#import mysql.connector as sql"
   ]
  },
  {
   "cell_type": "code",
   "execution_count": 2,
   "metadata": {
    "collapsed": false
   },
   "outputs": [],
   "source": [
    "BASE_URL = 'http://www.daft.ie/ireland/rooms-to-share'\n",
    "#BASE_URL_2 = 'http://www.daft.ie'"
   ]
  },
  {
   "cell_type": "markdown",
   "metadata": {},
   "source": [
    "### Scrape Content"
   ]
  },
  {
   "cell_type": "markdown",
   "metadata": {},
   "source": [
    "This section of code loops through each page of the apartment share search results and extracts the HTML for each apartment. Once extracted, features are constructed and the result is stored in a MySQL database for analysis"
   ]
  },
  {
   "cell_type": "code",
   "execution_count": 22,
   "metadata": {
    "collapsed": false
   },
   "outputs": [
    {
     "name": "stdout",
     "output_type": "stream",
     "text": [
      "0 http://www.daft.ie/ireland/rooms-to-share/sligo/house-share/sligo/76-cartron-bay-sligo-sligo-830596/\n",
      "[{'views': 1231, 'price': '220', 'address': '76 Cartron Bay, Sligo, Co. Sligo', 'couples': None, 'facilities': 2, 'total_residents': None, 'picture_count': 9, 'property_type': 'House', 'availability': u' Immediately', 'date_entered': u'16/8/2015 (today, 50 minutes ago)', 'lease_len': u' 9 months or more', 'average_cost': 178.75, 'owner_occ': None, 'bedroom_type': None}]\n",
      "1 http://www.daft.ie/ireland/rooms-to-share/dublin/house-share/ranelagh/ranelagh-ave-ranelagh-dublin-837918/\n",
      "[{'views': 75, 'price': '600', 'address': 'Ranelagh ave, Ranelagh, Dublin 6', 'couples': 0, 'facilities': 5, 'total_residents': None, 'picture_count': 1, 'property_type': 'House', 'availability': u' Tuesday 1st September', 'date_entered': u'16/8/2015 (today, 1 hour 56 minutes ago)', 'lease_len': u' 9 months or more', 'average_cost': 616.6666666666666, 'owner_occ': 1, 'bedroom_type': 'Twin'}]\n",
      "2 http://www.daft.ie/ireland/rooms-to-share/wicklow/house-share/bray/giltspur-wood-bray-wicklow-835316/\n",
      "[{'views': 320, 'price': '320', 'address': 'Giltspur Wood, Bray, Co. Wicklow', 'couples': 0, 'facilities': 9, 'total_residents': 2, 'picture_count': 5, 'property_type': 'House', 'availability': u' Immediately', 'date_entered': u'16/8/2015 (today, 2 hours 4 minutes ago)', 'lease_len': u' 12 months or more', 'average_cost': 459.375, 'owner_occ': 0, 'bedroom_type': 'Single'}]\n",
      "3 http://www.daft.ie/ireland/rooms-to-share/dublin/house-share/templeogue/templeville-road-templeogue-dublin-837241/\n",
      "[{'views': 291, 'price': '725', 'address': 'Templeville Road, Templeogue, Dublin 6w', 'couples': 0, 'facilities': 11, 'total_residents': 5, 'picture_count': 14, 'property_type': 'House', 'availability': u' Immediately', 'date_entered': u'16/8/2015 (today, 2 hours 35 minutes ago)', 'lease_len': u'  1 Year+', 'average_cost': 495.8333333333333, 'owner_occ': 1, 'bedroom_type': 'Double'}]\n",
      "4 http://www.daft.ie/ireland/rooms-to-share/dublin/house-share/ballsbridge/59-heytesbury-lane-ballsbridge-dublin-835731/\n",
      "5 http://www.daft.ie/ireland/rooms-to-share/galway/flat-to-share/taylors-hill/25-cuan-na-coille-fort-lorenzo-taylors-hill-taylors-hill-galway-826306/\n",
      "6 http://www.daft.ie/ireland/rooms-to-share/dublin/house-share/terenure/college-park-terenure-dublin-836767/\n",
      "[{'views': 721, 'price': '600', 'address': 'college park, Terenure, Dublin 6', 'couples': 0, 'facilities': 11, 'total_residents': 2, 'picture_count': 5, 'property_type': 'House', 'availability': u' Immediately', 'date_entered': u'16/8/2015 (today, 5 hours ago)', 'lease_len': u' 12 months or more', 'average_cost': 460.125, 'owner_occ': 1, 'bedroom_type': 'Double'}]\n",
      "7 http://www.daft.ie/ireland/rooms-to-share/dublin/house-share/terenure/11-wainsfort-grove-terenure-dublin-827568/\n",
      "[{'views': 5749, 'price': '495', 'address': '11 Wainsfort Grove, Terenure, Dublin 6', 'couples': 0, 'facilities': 10, 'total_residents': 5, 'picture_count': 17, 'property_type': 'House', 'availability': u' Immediately', 'date_entered': u'16/8/2015 (today, 6 hours ago)', 'lease_len': u' 10 months or more', 'average_cost': 398.25, 'owner_occ': 0, 'bedroom_type': 'Double'}]\n",
      "8 http://www.daft.ie/ireland/rooms-to-share/waterford/apartment-share/waterford-city/aylesbury-manor-waterford-city-waterford-832159/\n",
      "9 http://www.daft.ie/ireland/rooms-to-share/cork/apartment-share/douglas/brickfields-skehard-road-douglas-cork-835550/\n",
      "[{'views': 2126, 'price': '280', 'address': 'Brickfields, Skehard Road, Douglas, Co. Cork', 'couples': 0, 'facilities': 1, 'total_residents': 4, 'picture_count': 5, 'property_type': 'Apartment', 'availability': u' Tuesday 1st September', 'date_entered': u'16/8/2015 (today, 7 hours ago)', 'lease_len': u'  1 Year+', 'average_cost': 407.375, 'owner_occ': 0, 'bedroom_type': 'Double'}]\n"
     ]
    }
   ],
   "source": [
    "soup = make_soup(BASE_URL)\n",
    "    \n",
    "for idx, ad_section in enumerate(soup.find_all('div', 'box')):\n",
    "    \n",
    "    try:\n",
    "        details = []\n",
    "        link = str(BASE_URL) + str(ad_section.find('a').get('href'))\n",
    "        \n",
    "        print idx, link\n",
    "        ad = make_soup(link)\n",
    "        \n",
    "        # Now find the features of the individual property\n",
    "        features = get_property_features(ad)\n",
    "        print features\n",
    "\n",
    "        # Check if already in DB - Insert the apartment information into a Database(one row per apart)\n",
    "        #insert_features( prop_features )\n",
    "        \n",
    "        # Now offset the page number by 10 and create new BASE_URL\n",
    "        \n",
    "    except:\n",
    "        #print ad\n",
    "        #break\n",
    "        pass\n",
    "    #break"
   ]
  },
  {
   "cell_type": "markdown",
   "metadata": {},
   "source": [
    "This method takes a HTML page as a parameter and parses out relevant features of the property ad. It returns a dataframe of features to the caller function which in turn inserts it into a MySQL database."
   ]
  },
  {
   "cell_type": "code",
   "execution_count": 21,
   "metadata": {
    "collapsed": false
   },
   "outputs": [
    {
     "data": {
      "text/plain": [
       "[{'address': '76 Cartron Bay, Sligo, Co. Sligo',\n",
       "  'availability': u' Immediately',\n",
       "  'average_cost': 63.125,\n",
       "  'bedroom_type': None,\n",
       "  'couples': None,\n",
       "  'date_entered': u'16/8/2015 (today, 49 minutes ago)',\n",
       "  'facilities': 2,\n",
       "  'lease_len': u' 9 months or more',\n",
       "  'owner_occ': None,\n",
       "  'picture_count': 9,\n",
       "  'price': '220',\n",
       "  'property_type': 'House',\n",
       "  'total_residents': None,\n",
       "  'views': 1231}]"
      ]
     },
     "execution_count": 21,
     "metadata": {},
     "output_type": "execute_result"
    }
   ],
   "source": [
    "def get_property_features(HTML):\n",
    "\n",
    "    # General property overview\n",
    "    general = HTML.find('div', 'smi-object-info')\n",
    "\n",
    "    address = str(general.find('h1').get_text())\n",
    "    \n",
    "    price = str(price_of_property(general.find('div', {'id':'smi-price-string'}).get_text()))\n",
    "    property_type = str(general.find('span', 'header_text').get_text().split(' ')[0])   \n",
    "        \n",
    "    content = HTML.find('div', {'id':'smi-content'})\n",
    "    \n",
    "    # First get the number of photos taken of the property\n",
    "    picture_count = get_picture_count(content)\n",
    "    \n",
    "    # Next parse the main description area including the plain block of text.\n",
    "    property_overview = content.find('div', {'id':'overview'})\n",
    "    \n",
    "    # returns information about the rental from the property overview area\n",
    "    basic_info = property_overview.find_all('li')\n",
    "    bedroom, total_residents, owner_occ, couples = get_basic_info(basic_info, len(basic_info))\n",
    "    \n",
    "    # Availability of room(when it's ready)\n",
    "    availability = content.find('h3', 'left_title').next_sibling\n",
    "    \n",
    "    # Length of lease\n",
    "    length_content = content.find('h3', 'left_title').find_next_siblings()\n",
    "    length_lease = length_content[0].find('h3', 'left_title').next_sibling\n",
    "    \n",
    "    # Number of facilities available\n",
    "    fac_count = get_facility_count(content.find('table', {'id':'facilities'}))\n",
    "    \n",
    "    # returns the date that the rental was entered/renewed\n",
    "    date = get_date_entered(content)\n",
    "    \n",
    "    views = get_property_views(content)\n",
    "    \n",
    "    # The average cost of rentals in the same location\n",
    "    average_cost = get_avg_cost_vicinity(HTML)\n",
    "    \n",
    "    return[{'address': address,'price': price, 'property_type': property_type, \n",
    "            'picture_count' : picture_count, 'bedroom_type' : bedroom, \n",
    "            'couples' : couples, 'total_residents' : total_residents, 'owner_occ' :owner_occ,\n",
    "            'availability' :availability, 'lease_len' :length_lease, \n",
    "            'facilities' :fac_count, 'date_entered' : date, 'views' : views, 'average_cost' : average_cost }]\n",
    "    \n",
    "\n",
    "# For testing purposes\n",
    "get_property_features(make_soup('http://www.daft.ie/ireland/rooms-to-share/sligo/house-share/sligo/76-cartron-bay-sligo-sligo-830596/'))"
   ]
  },
  {
   "cell_type": "markdown",
   "metadata": {},
   "source": [
    "Utility functions:"
   ]
  },
  {
   "cell_type": "code",
   "execution_count": 16,
   "metadata": {
    "collapsed": false
   },
   "outputs": [],
   "source": [
    "def make_soup(url):\n",
    "    html = urlopen(url).read()\n",
    "    return BeautifulSoup(html, 'html.parser')\n",
    "\n",
    "def get_basic_info(content, rows):\n",
    "    \n",
    "    if rows == 4:\n",
    "        for idx, row in enumerate(content):\n",
    "            if (idx == 0):\n",
    "            # Look for the bedroom type\n",
    "                bedroom = bedroom_type(row.get_text())  \n",
    "            elif (idx == 1):                \n",
    "                # Total residents - Including spare room\n",
    "                total_residents = return_digit_from_string(row.get_text()) + 1\n",
    "            elif (idx == 2):\n",
    "                owner_occ = 0 if 'not' in row.get_text() else 1\n",
    "            elif (idx == 3):\n",
    "                # Whether couples are allowed\n",
    "                couples = 0 if 'Couples not accepted' in row.get_text() else 1\n",
    "    elif rows == 3:\n",
    "        total_residents = None\n",
    "        for idx, row in enumerate(content):\n",
    "            if (idx == 0):\n",
    "                # Look for the bedroom type\n",
    "                bedroom = bedroom_type(row.get_text())  \n",
    "            elif (idx == 1):\n",
    "                # Whether the apartment is owner occupied\n",
    "                owner_occ = 0 if 'not' in row.get_text() else 1\n",
    "            elif (idx == 2):\n",
    "                # Whether couples are allowed\n",
    "                couples = 0 if 'Couples not accepted' in row.get_text() else 1\n",
    "    else:\n",
    "        return None, None, None, None\n",
    "    return bedroom, total_residents, owner_occ, couples\n",
    "\n",
    "# Method to determine the room type available\n",
    "def bedroom_type(bedroom):\n",
    "    bedroom_type = ''\n",
    "    if 'Single' in bedroom:\n",
    "        return 'Single'\n",
    "    elif 'Double' in bedroom:\n",
    "        return 'Double'\n",
    "    elif 'Twin' in bedroom:\n",
    "        return 'Twin'\n",
    "    \n",
    "    \n",
    "# Method to return the price of a property(Small assumption made :S) - Improve this to determine proper period\n",
    "def price_of_property(string):\n",
    "    if 'weekly' in string:\n",
    "        return  return_digit_from_string(string) * 4\n",
    "    else:\n",
    "        return return_digit_from_string(string)\n",
    "\n",
    "    \n",
    "# Method to return the first digit of the string\n",
    "def return_digit_from_string(string):\n",
    "    digit = ''.join([x for x in string if x.isdigit()])\n",
    "    return int(digit)\n",
    "\n",
    "\n",
    "def get_date_entered(content):\n",
    "\n",
    "    entered_date = content.find('table', {'id':'facilities'}).next_sibling.next_sibling.next_sibling.next_sibling\n",
    "    return entered_date\n",
    "\n",
    "\n",
    "def get_property_views(content):\n",
    "\n",
    "    views = content.find('table', {'id':'facilities'}).next_sibling.next_sibling.next_sibling.next_sibling.next_sibling.next_sibling\n",
    "    return int(views.replace(\",\", \"\"))\n",
    "    \n",
    "    \n",
    "def get_facility_count(content):\n",
    "    \n",
    "    count = 0\n",
    "    for col in content.find_all('td'):\n",
    "        for row in col.find_all('li'):\n",
    "            count+=1\n",
    "    return count\n",
    "\n",
    "\n",
    "# This method calculates the average cost of the apartments within the same vicinity\n",
    "def get_avg_cost_vicinity(HTML):\n",
    "    prices = []\n",
    "    frame = HTML.find('div', {'id':'smi-tab-other-properties'})\n",
    "    \n",
    "    for idx, pane in enumerate(frame.find_all('li')):\n",
    "\n",
    "            cost_string = pane.find('strong').get_text().strip()\n",
    "            if ('Monthly' in cost_string or 'Weekly' in cost_string):\n",
    "                prices.append(return_digit_from_string(cost_string))\n",
    "                #print cost_string, return_digit_from_string(cost_string)\n",
    "                \n",
    "    average_cost = sum(prices) / float(len(prices))\n",
    "    return average_cost\n",
    "\n",
    "def get_picture_count(content):\n",
    "    try:\n",
    "        return int(content.find('a', 'p1').get_text()[:2])\n",
    "    except:\n",
    "        return 0"
   ]
  },
  {
   "cell_type": "markdown",
   "metadata": {},
   "source": [
    "### SQL Inserts"
   ]
  },
  {
   "cell_type": "markdown",
   "metadata": {},
   "source": [
    "This method is used to insert data into a MySQL database for persistance. In addition to that, we store the raw HTML in a NoSQL database for additional flexibility."
   ]
  },
  {
   "cell_type": "code",
   "execution_count": 12,
   "metadata": {
    "collapsed": true
   },
   "outputs": [],
   "source": [
    "def insert_features(property_details):\n",
    "\n",
    "    db_params = {'user' : \"root\",\n",
    "                 'password' : \"\",\n",
    "                 'host' : \"localhost\",\n",
    "                 'port' : 3306,\n",
    "                 'database' : \"daft\",\n",
    "                 'charset' : 'utf8',\n",
    "                 'collation' : 'utf8_general_ci',\n",
    "                 'buffered' : True\n",
    "                }\n",
    "    conn = sql.connect(**db_params)\n",
    "    cursor = conn.cursor()\n",
    "    \n",
    "    \n",
    "    query = \"\"\"\n",
    "            INSERT IGNORE \n",
    "            INTO property (address, price, property_type, \n",
    "            picture_count, bedroom_type, couples, total_residents, owner_occupied, link, html) \n",
    "            VALUES (%s, %s, %s, %s, %s, %s, %s, %s, %s, %s)\n",
    "            \"\"\"\n",
    "\n",
    "    try:\n",
    "        cursor.execute(query, property_details)\n",
    "        conn.commit()\n",
    "    except sql.Error as err:\n",
    "        print err\n",
    "        pass\n",
    "    cursor.close()"
   ]
  },
  {
   "cell_type": "code",
   "execution_count": 9,
   "metadata": {
    "collapsed": false
   },
   "outputs": [
    {
     "data": {
      "text/html": [
       "<style>\n",
       "    @font-face {\n",
       "        font-family: \"Computer Modern\";\n",
       "        src: url('http://9dbb143991406a7c655e-aa5fcb0a5a4ec34cff238a2d56ca4144.r56.cf5.rackcdn.com/cmunss.otf');\n",
       "    }\n",
       "    @font-face {\n",
       "        font-family: \"Computer Modern\";\n",
       "        font-weight: bold;\n",
       "        src: url('http://9dbb143991406a7c655e-aa5fcb0a5a4ec34cff238a2d56ca4144.r56.cf5.rackcdn.com/cmunsx.otf');\n",
       "    }\n",
       "    @font-face {\n",
       "        font-family: \"Computer Modern\";\n",
       "        font-style: oblique;\n",
       "        src: url('http://9dbb143991406a7c655e-aa5fcb0a5a4ec34cff238a2d56ca4144.r56.cf5.rackcdn.com/cmunsi.otf');\n",
       "    }\n",
       "    @font-face {\n",
       "        font-family: \"Computer Modern\";\n",
       "        font-weight: bold;\n",
       "        font-style: oblique;\n",
       "        src: url('http://9dbb143991406a7c655e-aa5fcb0a5a4ec34cff238a2d56ca4144.r56.cf5.rackcdn.com/cmunso.otf');\n",
       "    }\n",
       "    div.cell{\n",
       "        width:800px;\n",
       "        margin-left:16% !important;\n",
       "        margin-right:auto;\n",
       "    }\n",
       "    h1 {\n",
       "        font-family: Helvetica, serif;\n",
       "        text-align: center;\n",
       "    }\n",
       "    h4{\n",
       "        margin-top:12px;\n",
       "        margin-bottom: 3px;\n",
       "       }\n",
       "    div.text_cell_render{\n",
       "        font-family: Computer Modern, \"Helvetica Neue\", Arial, Helvetica, Geneva, sans-serif;\n",
       "        line-height: 120%;\n",
       "        font-size: 120%;\n",
       "        width:800px;\n",
       "        margin-left:auto;\n",
       "        margin-right:auto;\n",
       "    }\n",
       "    .CodeMirror{\n",
       "            font-family: \"Source Code Pro\", source-code-pro,Consolas, monospace;\n",
       "    }\n",
       "    .prompt{\n",
       "        display: None;\n",
       "    }\n",
       "    .text_cell_render h5 {\n",
       "        font-weight: 300;\n",
       "        font-size: 22pt;\n",
       "        color: #4057A1;\n",
       "        font-style: italic;\n",
       "        margin-bottom: .5em;\n",
       "        margin-top: 0.5em;\n",
       "        display: block;\n",
       "    }\n",
       "    \n",
       "    .warning{\n",
       "        color: rgb( 240, 20, 20 )\n",
       "        }  \n",
       "</style>\n",
       "<script>\n",
       "    MathJax.Hub.Config({\n",
       "                        TeX: {\n",
       "                           extensions: [\"AMSmath.js\"]\n",
       "                           },\n",
       "                tex2jax: {\n",
       "                    inlineMath: [ ['$','$'], [\"\\\\(\",\"\\\\)\"] ],\n",
       "                    displayMath: [ ['$$','$$'], [\"\\\\[\",\"\\\\]\"] ]\n",
       "                },\n",
       "                displayAlign: 'center', // Change this to 'center' to center equations.\n",
       "                \"HTML-CSS\": {\n",
       "                    styles: {'.MathJax_Display': {\"margin\": 4}}\n",
       "                }\n",
       "        });\n",
       "</script>"
      ],
      "text/plain": [
       "<IPython.core.display.HTML object>"
      ]
     },
     "execution_count": 9,
     "metadata": {},
     "output_type": "execute_result"
    }
   ],
   "source": [
    "def css_styling():\n",
    "    from IPython.display import HTML\n",
    "    styles = open('./styling/custom.css', 'r').read()\n",
    "    return HTML(styles) \n",
    "\n",
    "css_styling()"
   ]
  }
 ],
 "metadata": {
  "kernelspec": {
   "display_name": "Python 2",
   "language": "python",
   "name": "python2"
  },
  "language_info": {
   "codemirror_mode": {
    "name": "ipython",
    "version": 2
   },
   "file_extension": ".py",
   "mimetype": "text/x-python",
   "name": "python",
   "nbconvert_exporter": "python",
   "pygments_lexer": "ipython2",
   "version": "2.7.9"
  }
 },
 "nbformat": 4,
 "nbformat_minor": 0
}
