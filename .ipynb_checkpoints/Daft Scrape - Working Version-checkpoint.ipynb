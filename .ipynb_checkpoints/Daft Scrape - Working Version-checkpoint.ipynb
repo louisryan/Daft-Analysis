{
 "cells": [
  {
   "cell_type": "markdown",
   "metadata": {},
   "source": [
    "# Daft Scraping"
   ]
  },
  {
   "cell_type": "markdown",
   "metadata": {},
   "source": [
    "This is a python script to scrape Daft.ie for all house prices since the time of the ast scrape. The unique identifier is the URL which contains reference to the apartment/house. "
   ]
  },
  {
   "cell_type": "code",
   "execution_count": 4,
   "metadata": {
    "collapsed": false
   },
   "outputs": [],
   "source": [
    "from bs4 import BeautifulSoup, Comment\n",
    "from urllib2 import urlopen\n",
    "import pprint as pp\n",
    "import html5lib \n",
    "import sys\n",
    "#import mysql.connector as sql"
   ]
  },
  {
   "cell_type": "code",
   "execution_count": 5,
   "metadata": {
    "collapsed": false
   },
   "outputs": [],
   "source": [
    "BASE_URL = 'http://www.daft.ie/ireland/rooms-to-share'\n",
    "#BASE_URL_2 = 'http://www.daft.ie'"
   ]
  },
  {
   "cell_type": "markdown",
   "metadata": {},
   "source": [
    "### Scrape Content"
   ]
  },
  {
   "cell_type": "markdown",
   "metadata": {},
   "source": [
    "This section of code loops through each page of the apartment share search results and extracts the HTML for each apartment. Once extracted, features are constructed and the result is stored in a MySQL database for analysis"
   ]
  },
  {
   "cell_type": "code",
   "execution_count": 30,
   "metadata": {
    "collapsed": false
   },
   "outputs": [
    {
     "name": "stdout",
     "output_type": "stream",
     "text": [
      "0 http://www.daft.ie/ireland/rooms-to-share/dublin/apartment-share/east-wall/island-key-block-2-east-road-east-wall-east-wall-dublin-832342/\n",
      "1 http://www.daft.ie/ireland/rooms-to-share/dublin/apartment-share/rathmines/rathmines-sq-12-rathmines-sq-lwr-rathmines-rd-rathmines-dublin-835337/\n",
      "[{'bedroom_type': 'Double', 'date_entered': u'17/8/2015 (today, 9 minutes ago)', 'description': u\"Property Description:Lovely spacious 2 bed apartment in the center of Rathmines, just above the swimming pool. All mod cons, sky, broadband etc.\\n\\r\\nWill need to contact property manager to find if there's car space available, will be \\u20ac50 a month added to the rent.\\n\\r\\n1 professional male, late twenties, currently living here.Facilities:Central HeatingHouse AlarmCable TelevisionWashing MachineDryerDishwasherMicrowaveInternetGarden / Patio / BalconyDaft Property Shortcode:http://www.daft.ie/3835337Date Entered/Renewed:17/8/2015 (today, 9 minutes ago)Property Views:\\n2,201\", 'views': 2201, 'price': '750', 'picture_count': 5, 'lease_len': u'  1 Year+', 'couples': 0, 'facilities': 9, 'average_cost': 693.375, 'total_residents': 2, 'address': 'Rathmines Sq, 12 Rathmines Sq, Lwr. Rathmines Rd, Rathmines, Dublin 6', 'owner_occ': 0, 'property_type': 'Apartment', 'description_length': 572, 'availability': u' Tuesday 1st September'}]\n",
      "2 http://www.daft.ie/ireland/rooms-to-share/cork/house-share/silversprings/ashmount-court-silversprings-cork-837159/\n",
      "[{'bedroom_type': 'Double', 'date_entered': u'17/8/2015 (today, 40 minutes ago)', 'description': u'Property Description:Double room to rent in large, modern house sharing with three other working professionals.  The house is within a 10 min drive of Cork City, Little Island and Jack Lynch tunnel.  It is within walking distance of the No. 8 bus route.  House has all mod cons including electric shower, satellite tv, broadband etc.  Bedroom has wardrobe, chest of drawers and bedside locker.  Ample parking available.  Bills shared.  Looking for professional non-smoker.Facilities:ParkingDaft Property Shortcode:http://www.daft.ie/3837159Date Entered/Renewed:17/8/2015 (today, 40 minutes ago)Property Views:\\n650', 'views': 650, 'price': '330', 'picture_count': 7, 'lease_len': u'  1 Year+', 'couples': 0, 'facilities': 1, 'average_cost': 185.0, 'total_residents': 4, 'address': 'Ashmount Court, Silversprings, Co. Cork', 'owner_occ': 1, 'property_type': 'House', 'description_length': 613, 'availability': u' Immediately'}]\n",
      "3 http://www.daft.ie/ireland/rooms-to-share/wexford/house-share/enniscorthy/ballycourcy-more-enniscorthy-wexford-838218/\n",
      "[{'bedroom_type': None, 'date_entered': u'17/8/2015 (today, 41 minutes ago)', 'description': u'Property Description:Available now.  3 Double bedrooms all ensuite  (with power showers). All rooms fully furnished, with T.V point and fitted wardrobes. Seperate  living room. and use of large kitchen.. All mod cons. Beautiful large garden with electric gates and private parking. Very peaceful and quiet area, 1 mile from Enniscorthy town and approx. 15 minutes from the N11. High speed 8mb broad band available.Facilities:ParkingCentral HeatingHouse AlarmCable TelevisionWashing MachineDishwasherMicrowavePets AllowedInternetGarden / Patio / BalconyDaft Property Shortcode:http://www.daft.ie/3838218Date Entered/Renewed:17/8/2015 (today, 41 minutes ago)Property Views:\\n4', 'views': 4, 'price': '320', 'picture_count': 13, 'lease_len': u' 12 months or more', 'couples': None, 'facilities': 10, 'average_cost': 62.5, 'total_residents': None, 'address': 'Ballycourcy More, Enniscorthy, Co. Wexford', 'owner_occ': None, 'property_type': 'House', 'description_length': 673, 'availability': u' Immediately'}]\n",
      "4 http://www.daft.ie/ireland/rooms-to-share/dublin/apartment-share/dublin-8/lindsay-house-patrick-street-dublin-8-dublin-836593/\n",
      "[{'bedroom_type': 'Double', 'date_entered': u'17/8/2015 (today, 2 hours 3 minutes ago)', 'description': u\"Property Description:Spacious Double Bedroom \\u20ac500 Monthly\\n\\n\\r\\nSeeking female to let a Double bedroom with\\r\\nbuilt in wardrobes in a spacious cosy 2 bedroom apartment.\\r\\nThis complex is in very central location,only 10 min walk to St.Stephen's Green and  5 min walk to Christchurch & Temple Bar. \\r\\nKitchen / dining area with all mod cons\\r\\nand large living room with double doors leading to a balcony facing the St.Patrick's Cathedral.\\r\\nBus direct to town from outside the apartment\\r\\nblock.The apartment has all mod cons with wireless Internet (UPC) available.\\r\\nThis room will be ideal for a female professional.The room is equipped with study table and chair together with a bookshelf.\\r\\nAvailable to rent for 12 months.  \\r\\nSharing with professional & tidy couple.Facilities:House AlarmCable TelevisionWashing MachineMicrowaveInternetServiced PropertyDaft Property Shortcode:http://www.daft.ie/3836593Date Entered/Renewed:17/8/2015 (today, 2 hours 3 minutes ago)Property Views:\\n2,119\", 'views': 2119, 'price': '500', 'picture_count': 4, 'lease_len': u' 12 months or more', 'couples': 0, 'facilities': 6, 'average_cost': 461.625, 'total_residents': 3, 'address': 'Lindsay House, Patrick Street, Dublin 8', 'owner_occ': 0, 'property_type': 'Apartment', 'description_length': 978, 'availability': u' Tuesday 15th September'}]\n",
      "5 http://www.daft.ie/ireland/rooms-to-share/wexford/house-share/gorey/meadow-gate-ramstown-lower-gorey-wexford-833214/\n",
      "6 http://www.daft.ie/ireland/rooms-to-share/galway/house-share/shantalla/reddington-rd-shantalla-galway-838156/\n",
      "7 http://www.daft.ie/ireland/rooms-to-share/dublin/house-share/carrickmines/brennanstown-road-carrickmines-dublin-835015/\n",
      "[{'bedroom_type': None, 'date_entered': u'17/8/2015 (today, 3 hours 11 minutes ago)', 'description': u'Property Description:Double bedrooms . Great house, great housemates . Looking for young people. Students welcome  Luas 1 min awayFacilities:ParkingCentral HeatingCable TelevisionWashing MachineDryerDishwasherMicrowaveInternetGarden / Patio / BalconyDaft Property Shortcode:http://www.daft.ie/3835015Date Entered/Renewed:17/8/2015 (today, 3 hours 11 minutes ago)Property Views:\\n436', 'views': 436, 'price': '550', 'picture_count': 0, 'lease_len': u' 12 months or more', 'couples': None, 'facilities': 9, 'average_cost': 567.0, 'total_residents': None, 'address': 'Brennanstown road, Carrickmines, Dublin 18', 'owner_occ': None, 'property_type': 'House', 'description_length': 381, 'availability': u' Immediately'}]\n",
      "8 http://www.daft.ie/ireland/rooms-to-share/dublin/apartment-share/santry/the-goulding-santry-cross-santry-dublin-837573/\n",
      "[{'bedroom_type': None, 'date_entered': u'17/8/2015 (today, 3 hours 50 minutes ago)', 'description': u'Property Description:Double room available in 2 bedroom apartment. All mod cons. Fourth floor with balcony and nice view of Dublin on a clear day!!\\n\\r\\nLooking for someone to share apartment. Looking for minimum of 6 months stay and preferably professional person. \\n\\r\\nLocated near Santry woods and Beaumount hospital, santry omniplex and M50 entrance. Close to Airport.\\n\\r\\nDouble room 550 for 1 person\\r\\nLarge Double room 800 ensuite for 2 peopleFacilities:ParkingCentral HeatingCable TelevisionWashing MachineDryerDishwasherDaft Property Shortcode:http://www.daft.ie/3837573Date Entered/Renewed:17/8/2015 (today, 3 hours 50 minutes ago)Property Views:\\n630', 'views': 630, 'price': '550', 'picture_count': 4, 'lease_len': u' 12 months or more', 'couples': None, 'facilities': 6, 'average_cost': 380.0, 'total_residents': None, 'address': 'The Goulding, Santry Cross, Santry, Dublin 9', 'owner_occ': None, 'property_type': 'Apartment', 'description_length': 652, 'availability': u' Immediately'}]\n",
      "9 http://www.daft.ie/ireland/rooms-to-share/dublin/house-share/terenure/college-park-terenure-dublin-836767/\n",
      "[{'bedroom_type': 'Double', 'date_entered': u'17/8/2015 (today, 4 hours 40 minutes ago)', 'description': u'Property Description:modern comfortable house offering DIGS. would suit interns/ first/second year serious students or young professionals.\\r\\n Main bus routes to city centre \\r\\n20 MINUTES BY BUS DEPENDING ON TRAFFIC AND TIME OF DAY.\\r\\n5 mins from M50\\r\\ncycle lanes to ucd\\r\\nadj to ashleaf college, templeogue.\\r\\n10 mins walk to terenure village,restaurants,pubs etc. \\r\\nrent includes bed and breakfast from sun to fri\\r\\nevening meals MONDAY TO THURSDAY .\\r\\nweekends negotiable\\r\\nown sitting room with tv, open fire, wifi, \\r\\n tea/coffee making facilities\\r\\ndouble  room available.\\r\\nlinen supplied.\\r\\ncurrently 1 lodger /trainee accountant / irish. \\r\\nParking on street.\\r\\ntaking bookings now for college/septemberFacilities:ParkingCentral HeatingHouse AlarmCable TelevisionWashing MachineDryerDishwasherMicrowaveInternetGarden / Patio / BalconyServiced PropertyDaft Property Shortcode:http://www.daft.ie/3836767Date Entered/Renewed:17/8/2015 (today, 4 hours 40 minutes ago)Property Views:\\n839', 'views': 839, 'price': '600', 'picture_count': 5, 'lease_len': u' 12 months or more', 'couples': 0, 'facilities': 11, 'average_cost': 405.0, 'total_residents': 2, 'address': 'college park, Terenure, Dublin 6', 'owner_occ': 1, 'property_type': 'House', 'description_length': 977, 'availability': u' Immediately'}]\n"
     ]
    }
   ],
   "source": [
    "soup = make_soup(BASE_URL)\n",
    "    \n",
    "for idx, ad_section in enumerate(soup.find_all('div', 'box')):\n",
    "    \n",
    "    try:\n",
    "        details = []\n",
    "        link = str(BASE_URL) + str(ad_section.find('a').get('href'))\n",
    "        \n",
    "        print idx, link\n",
    "        ad = make_soup(link)\n",
    "        \n",
    "        # Now find the features of the individual property\n",
    "        features = get_property_features(ad)\n",
    "        print features\n",
    "\n",
    "        # Check if already in DB - Insert the apartment information into a Database(one row per apart)\n",
    "        #insert_features( prop_features )\n",
    "        \n",
    "        # Now offset the page number by 10 and create new BASE_URL\n",
    "        \n",
    "    except:\n",
    "        #print ad\n",
    "        #break\n",
    "        pass\n",
    "    #break"
   ]
  },
  {
   "cell_type": "markdown",
   "metadata": {},
   "source": [
    "This method takes a HTML page as a parameter and parses out relevant features of the property ad. It returns a dataframe of features to the caller function which in turn inserts it into a MySQL database."
   ]
  },
  {
   "cell_type": "code",
   "execution_count": 31,
   "metadata": {
    "collapsed": false
   },
   "outputs": [
    {
     "ename": "ValueError",
     "evalue": "invalid literal for int() with base 10: '17/8/2015 (today 9 minutes ago)'",
     "output_type": "error",
     "traceback": [
      "\u001b[0;31m---------------------------------------------------------------------------\u001b[0m",
      "\u001b[0;31mValueError\u001b[0m                                Traceback (most recent call last)",
      "\u001b[0;32m<ipython-input-31-f4124c4c3681>\u001b[0m in \u001b[0;36m<module>\u001b[0;34m()\u001b[0m\n\u001b[1;32m     50\u001b[0m \u001b[0;34m\u001b[0m\u001b[0m\n\u001b[1;32m     51\u001b[0m \u001b[0;31m# For testing purposes\u001b[0m\u001b[0;34m\u001b[0m\u001b[0;34m\u001b[0m\u001b[0m\n\u001b[0;32m---> 52\u001b[0;31m \u001b[0mget_property_features\u001b[0m\u001b[0;34m(\u001b[0m\u001b[0mmake_soup\u001b[0m\u001b[0;34m(\u001b[0m\u001b[0;34m'http://www.daft.ie/ireland/rooms-to-share/dublin/apartment-share/east-wall/island-key-block-2-east-road-east-wall-east-wall-dublin-832342/'\u001b[0m\u001b[0;34m)\u001b[0m\u001b[0;34m)\u001b[0m\u001b[0;34m\u001b[0m\u001b[0m\n\u001b[0m",
      "\u001b[0;32m<ipython-input-31-f4124c4c3681>\u001b[0m in \u001b[0;36mget_property_features\u001b[0;34m(HTML)\u001b[0m\n\u001b[1;32m     37\u001b[0m     \u001b[0mdate\u001b[0m \u001b[0;34m=\u001b[0m \u001b[0mget_date_entered\u001b[0m\u001b[0;34m(\u001b[0m\u001b[0mcontent\u001b[0m\u001b[0;34m)\u001b[0m\u001b[0;34m\u001b[0m\u001b[0m\n\u001b[1;32m     38\u001b[0m \u001b[0;34m\u001b[0m\u001b[0m\n\u001b[0;32m---> 39\u001b[0;31m     \u001b[0mviews\u001b[0m \u001b[0;34m=\u001b[0m \u001b[0mget_property_views\u001b[0m\u001b[0;34m(\u001b[0m\u001b[0mcontent\u001b[0m\u001b[0;34m)\u001b[0m\u001b[0;34m\u001b[0m\u001b[0m\n\u001b[0m\u001b[1;32m     40\u001b[0m \u001b[0;34m\u001b[0m\u001b[0m\n\u001b[1;32m     41\u001b[0m     \u001b[0;31m# The average cost of rentals in the same location\u001b[0m\u001b[0;34m\u001b[0m\u001b[0;34m\u001b[0m\u001b[0m\n",
      "\u001b[0;32m<ipython-input-29-e44d0ca47655>\u001b[0m in \u001b[0;36mget_property_views\u001b[0;34m(content)\u001b[0m\n\u001b[1;32m     70\u001b[0m \u001b[0;34m\u001b[0m\u001b[0m\n\u001b[1;32m     71\u001b[0m     \u001b[0mviews\u001b[0m \u001b[0;34m=\u001b[0m \u001b[0mcontent\u001b[0m\u001b[0;34m.\u001b[0m\u001b[0mfind\u001b[0m\u001b[0;34m(\u001b[0m\u001b[0;34m'table'\u001b[0m\u001b[0;34m,\u001b[0m \u001b[0;34m{\u001b[0m\u001b[0;34m'id'\u001b[0m\u001b[0;34m:\u001b[0m\u001b[0;34m'facilities'\u001b[0m\u001b[0;34m}\u001b[0m\u001b[0;34m)\u001b[0m\u001b[0;34m.\u001b[0m\u001b[0mnext_sibling\u001b[0m\u001b[0;34m.\u001b[0m\u001b[0mnext_sibling\u001b[0m\u001b[0;34m.\u001b[0m\u001b[0mnext_sibling\u001b[0m\u001b[0;34m.\u001b[0m\u001b[0mnext_sibling\u001b[0m\u001b[0;34m.\u001b[0m\u001b[0mnext_sibling\u001b[0m\u001b[0;34m.\u001b[0m\u001b[0mnext_sibling\u001b[0m\u001b[0;34m\u001b[0m\u001b[0m\n\u001b[0;32m---> 72\u001b[0;31m     \u001b[0;32mreturn\u001b[0m \u001b[0mint\u001b[0m\u001b[0;34m(\u001b[0m\u001b[0mviews\u001b[0m\u001b[0;34m.\u001b[0m\u001b[0mreplace\u001b[0m\u001b[0;34m(\u001b[0m\u001b[0;34m\",\"\u001b[0m\u001b[0;34m,\u001b[0m \u001b[0;34m\"\"\u001b[0m\u001b[0;34m)\u001b[0m\u001b[0;34m)\u001b[0m\u001b[0;34m\u001b[0m\u001b[0m\n\u001b[0m\u001b[1;32m     73\u001b[0m \u001b[0;34m\u001b[0m\u001b[0m\n\u001b[1;32m     74\u001b[0m \u001b[0;34m\u001b[0m\u001b[0m\n",
      "\u001b[0;31mValueError\u001b[0m: invalid literal for int() with base 10: '17/8/2015 (today 9 minutes ago)'"
     ]
    }
   ],
   "source": [
    "def get_property_features(HTML):\n",
    "\n",
    "    # General property overview\n",
    "    general = HTML.find('div', 'smi-object-info')\n",
    "\n",
    "    address = str(general.find('h1').get_text())\n",
    "    \n",
    "    price = str(price_of_property(general.find('div', {'id':'smi-price-string'}).get_text()))\n",
    "    property_type = str(general.find('span', 'header_text').get_text().split(' ')[0])   \n",
    "        \n",
    "    content = HTML.find('div', {'id':'smi-content'})\n",
    "    \n",
    "    # First get the number of photos taken of the property\n",
    "    picture_count = get_picture_count(content)\n",
    "    \n",
    "    # Next parse the main description area including the plain block of text.\n",
    "    property_overview = content.find('div', {'id':'overview'})\n",
    "    \n",
    "    # returns information about the rental from the property overview area\n",
    "    basic_info = property_overview.find_all('li')\n",
    "    bedroom, total_residents, owner_occ, couples = get_basic_info(basic_info, len(basic_info))\n",
    "    \n",
    "    # Availability of room(when it's ready)\n",
    "    availability = content.find('h3', 'left_title').next_sibling\n",
    "    \n",
    "    # Length of lease\n",
    "    length_content = content.find('h3', 'left_title').find_next_siblings()\n",
    "    length_lease = length_content[0].find('h3', 'left_title').next_sibling\n",
    "    \n",
    "    # description info\n",
    "    description, len_description = get_description(content)\n",
    "    \n",
    "    # Number of facilities available\n",
    "    fac_count = get_facility_count(content.find('table', {'id':'facilities'}))\n",
    "    \n",
    "    # returns the date that the rental was entered/renewed\n",
    "    date = get_date_entered(content)\n",
    "    \n",
    "    views = get_property_views(content)\n",
    "    \n",
    "    # The average cost of rentals in the same location\n",
    "    average_cost = get_avg_cost_vicinity(HTML)\n",
    "    \n",
    "    return[{'address': address,'price': price, 'property_type': property_type, \n",
    "            'picture_count' : picture_count, 'bedroom_type' : bedroom, \n",
    "            'couples' : couples, 'total_residents' : total_residents, 'owner_occ' : owner_occ,\n",
    "            'availability' : availability, 'lease_len' : length_lease, \n",
    "            'description' : description, 'description_length' : len_description,\n",
    "            'facilities' :fac_count, 'date_entered' : date, 'views' : views, 'average_cost' : average_cost }]\n",
    "\n",
    "# For testing purposes\n",
    "get_property_features(make_soup('http://www.daft.ie/ireland/rooms-to-share/dublin/apartment-share/east-wall/island-key-block-2-east-road-east-wall-east-wall-dublin-832342/'))"
   ]
  },
  {
   "cell_type": "markdown",
   "metadata": {},
   "source": [
    "Utility functions:"
   ]
  },
  {
   "cell_type": "code",
   "execution_count": 29,
   "metadata": {
    "collapsed": false
   },
   "outputs": [],
   "source": [
    "def make_soup(url):\n",
    "    html = urlopen(url).read()\n",
    "    return BeautifulSoup(html, 'html.parser')\n",
    "\n",
    "\n",
    "def get_basic_info(content, rows):\n",
    "    \n",
    "    if rows == 4:\n",
    "        for idx, row in enumerate(content):\n",
    "            if (idx == 0):\n",
    "            # Look for the bedroom type\n",
    "                bedroom = bedroom_type(row.get_text())  \n",
    "            elif (idx == 1):                \n",
    "                # Total residents - Including spare room\n",
    "                total_residents = return_digit_from_string(row.get_text()) + 1\n",
    "            elif (idx == 2):\n",
    "                owner_occ = 0 if 'not' in row.get_text() else 1\n",
    "            elif (idx == 3):\n",
    "                # Whether couples are allowed\n",
    "                couples = 0 if 'Couples not accepted' in row.get_text() else 1\n",
    "    elif rows == 3:\n",
    "        total_residents = None\n",
    "        for idx, row in enumerate(content):\n",
    "            if (idx == 0):\n",
    "                # Look for the bedroom type\n",
    "                bedroom = bedroom_type(row.get_text())  \n",
    "            elif (idx == 1):\n",
    "                # Whether the apartment is owner occupied\n",
    "                owner_occ = 0 if 'not' in row.get_text() else 1\n",
    "            elif (idx == 2):\n",
    "                # Whether couples are allowed\n",
    "                couples = 0 if 'Couples not accepted' in row.get_text() else 1\n",
    "    else:\n",
    "        return None, None, None, None\n",
    "    return bedroom, total_residents, owner_occ, couples\n",
    "\n",
    "\n",
    "# Method to determine the room type available\n",
    "def bedroom_type(bedroom):\n",
    "    bedroom_type = ''\n",
    "    if 'Single' in bedroom:\n",
    "        return 'Single'\n",
    "    elif 'Double' in bedroom:\n",
    "        return 'Double'\n",
    "    elif 'Twin' in bedroom:\n",
    "        return 'Twin'\n",
    "    \n",
    "    \n",
    "# Method to return the price of a property(Small assumption made :S) - Improve this to determine proper period\n",
    "def price_of_property(string):\n",
    "    if 'weekly' in string:\n",
    "        return  return_digit_from_string(string) * 4\n",
    "    else:\n",
    "        return return_digit_from_string(string)\n",
    "\n",
    "    \n",
    "# Method to return the first digit of the string\n",
    "def return_digit_from_string(string):\n",
    "    digit = ''.join([x for x in string if x.isdigit()])\n",
    "    return int(digit)\n",
    "\n",
    "\n",
    "def get_date_entered(content):\n",
    "\n",
    "    entered_date = content.find('table', {'id':'facilities'}).next_sibling.next_sibling.next_sibling.next_sibling\n",
    "    return entered_date\n",
    "\n",
    "\n",
    "def get_property_views(content):\n",
    "\n",
    "    views = content.find('table', {'id':'facilities'}).next_sibling.next_sibling.next_sibling.next_sibling.next_sibling.next_sibling\n",
    "    return int(views.replace(\",\", \"\"))\n",
    "    \n",
    "    \n",
    "def get_facility_count(content):\n",
    "    count = 0\n",
    "    for col in content.find_all('td'):\n",
    "        for row in col.find_all('li'):\n",
    "            count+=1\n",
    "    return count\n",
    "\n",
    "\n",
    "def get_description(content):\n",
    "    try:\n",
    "        description = content.find('div', {'id':'description'}).get_text()\n",
    "        return description, len(description)\n",
    "    except:\n",
    "        return None, None\n",
    "\n",
    "    \n",
    "# This method calculates the average cost of the apartments within the same vicinity\n",
    "def get_avg_cost_vicinity(HTML):\n",
    "    prices = []\n",
    "    frame = HTML.find('div', {'id':'smi-tab-other-properties'})\n",
    "    \n",
    "    for idx, pane in enumerate(frame.find_all('li')):\n",
    "\n",
    "            cost_string = pane.find('strong').get_text().strip()\n",
    "            if ('Monthly' in cost_string or 'Weekly' in cost_string):\n",
    "                prices.append(return_digit_from_string(cost_string))\n",
    "                #print cost_string, return_digit_from_string(cost_string)\n",
    "                \n",
    "    average_cost = sum(prices) / float(len(prices))\n",
    "    return average_cost\n",
    "\n",
    "\n",
    "def get_picture_count(content):\n",
    "    try:\n",
    "        return int(content.find('a', 'p1').get_text()[:2])\n",
    "    except:\n",
    "        return 0"
   ]
  },
  {
   "cell_type": "markdown",
   "metadata": {},
   "source": [
    "### SQL Inserts"
   ]
  },
  {
   "cell_type": "markdown",
   "metadata": {},
   "source": [
    "This method is used to insert data into a MySQL database for persistance. In addition to that, we store the raw HTML in a NoSQL database for additional flexibility."
   ]
  },
  {
   "cell_type": "code",
   "execution_count": 12,
   "metadata": {
    "collapsed": true
   },
   "outputs": [],
   "source": [
    "def insert_features(property_details):\n",
    "\n",
    "    db_params = {'user' : \"root\",\n",
    "                 'password' : \"\",\n",
    "                 'host' : \"localhost\",\n",
    "                 'port' : 3306,\n",
    "                 'database' : \"daft\",\n",
    "                 'charset' : 'utf8',\n",
    "                 'collation' : 'utf8_general_ci',\n",
    "                 'buffered' : True\n",
    "                }\n",
    "    conn = sql.connect(**db_params)\n",
    "    cursor = conn.cursor()\n",
    "    \n",
    "    \n",
    "    query = \"\"\"\n",
    "            INSERT IGNORE \n",
    "            INTO property (address, price, property_type, \n",
    "            picture_count, bedroom_type, couples, total_residents, owner_occupied, link, html) \n",
    "            VALUES (%s, %s, %s, %s, %s, %s, %s, %s, %s, %s)\n",
    "            \"\"\"\n",
    "\n",
    "    try:\n",
    "        cursor.execute(query, property_details)\n",
    "        conn.commit()\n",
    "    except sql.Error as err:\n",
    "        print err\n",
    "        pass\n",
    "    cursor.close()"
   ]
  },
  {
   "cell_type": "code",
   "execution_count": 9,
   "metadata": {
    "collapsed": false
   },
   "outputs": [
    {
     "data": {
      "text/html": [
       "<style>\n",
       "    @font-face {\n",
       "        font-family: \"Computer Modern\";\n",
       "        src: url('http://9dbb143991406a7c655e-aa5fcb0a5a4ec34cff238a2d56ca4144.r56.cf5.rackcdn.com/cmunss.otf');\n",
       "    }\n",
       "    @font-face {\n",
       "        font-family: \"Computer Modern\";\n",
       "        font-weight: bold;\n",
       "        src: url('http://9dbb143991406a7c655e-aa5fcb0a5a4ec34cff238a2d56ca4144.r56.cf5.rackcdn.com/cmunsx.otf');\n",
       "    }\n",
       "    @font-face {\n",
       "        font-family: \"Computer Modern\";\n",
       "        font-style: oblique;\n",
       "        src: url('http://9dbb143991406a7c655e-aa5fcb0a5a4ec34cff238a2d56ca4144.r56.cf5.rackcdn.com/cmunsi.otf');\n",
       "    }\n",
       "    @font-face {\n",
       "        font-family: \"Computer Modern\";\n",
       "        font-weight: bold;\n",
       "        font-style: oblique;\n",
       "        src: url('http://9dbb143991406a7c655e-aa5fcb0a5a4ec34cff238a2d56ca4144.r56.cf5.rackcdn.com/cmunso.otf');\n",
       "    }\n",
       "    div.cell{\n",
       "        width:800px;\n",
       "        margin-left:16% !important;\n",
       "        margin-right:auto;\n",
       "    }\n",
       "    h1 {\n",
       "        font-family: Helvetica, serif;\n",
       "        text-align: center;\n",
       "    }\n",
       "    h4{\n",
       "        margin-top:12px;\n",
       "        margin-bottom: 3px;\n",
       "       }\n",
       "    div.text_cell_render{\n",
       "        font-family: Computer Modern, \"Helvetica Neue\", Arial, Helvetica, Geneva, sans-serif;\n",
       "        line-height: 120%;\n",
       "        font-size: 120%;\n",
       "        width:800px;\n",
       "        margin-left:auto;\n",
       "        margin-right:auto;\n",
       "    }\n",
       "    .CodeMirror{\n",
       "            font-family: \"Source Code Pro\", source-code-pro,Consolas, monospace;\n",
       "    }\n",
       "    .prompt{\n",
       "        display: None;\n",
       "    }\n",
       "    .text_cell_render h5 {\n",
       "        font-weight: 300;\n",
       "        font-size: 22pt;\n",
       "        color: #4057A1;\n",
       "        font-style: italic;\n",
       "        margin-bottom: .5em;\n",
       "        margin-top: 0.5em;\n",
       "        display: block;\n",
       "    }\n",
       "    \n",
       "    .warning{\n",
       "        color: rgb( 240, 20, 20 )\n",
       "        }  \n",
       "</style>\n",
       "<script>\n",
       "    MathJax.Hub.Config({\n",
       "                        TeX: {\n",
       "                           extensions: [\"AMSmath.js\"]\n",
       "                           },\n",
       "                tex2jax: {\n",
       "                    inlineMath: [ ['$','$'], [\"\\\\(\",\"\\\\)\"] ],\n",
       "                    displayMath: [ ['$$','$$'], [\"\\\\[\",\"\\\\]\"] ]\n",
       "                },\n",
       "                displayAlign: 'center', // Change this to 'center' to center equations.\n",
       "                \"HTML-CSS\": {\n",
       "                    styles: {'.MathJax_Display': {\"margin\": 4}}\n",
       "                }\n",
       "        });\n",
       "</script>"
      ],
      "text/plain": [
       "<IPython.core.display.HTML object>"
      ]
     },
     "execution_count": 9,
     "metadata": {},
     "output_type": "execute_result"
    }
   ],
   "source": [
    "def css_styling():\n",
    "    from IPython.display import HTML\n",
    "    styles = open('./styling/custom.css', 'r').read()\n",
    "    return HTML(styles) \n",
    "\n",
    "css_styling()"
   ]
  }
 ],
 "metadata": {
  "kernelspec": {
   "display_name": "Python 2",
   "language": "python",
   "name": "python2"
  },
  "language_info": {
   "codemirror_mode": {
    "name": "ipython",
    "version": 2
   },
   "file_extension": ".py",
   "mimetype": "text/x-python",
   "name": "python",
   "nbconvert_exporter": "python",
   "pygments_lexer": "ipython2",
   "version": "2.7.9"
  }
 },
 "nbformat": 4,
 "nbformat_minor": 0
}
